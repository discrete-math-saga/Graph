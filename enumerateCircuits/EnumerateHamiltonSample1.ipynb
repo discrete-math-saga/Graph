{
  "cells": [
    {
      "cell_type": "code",
      "execution_count": null,
      "metadata": {
        "trusted": true
      },
      "outputs": [],
      "source": [
        "import matplotlib.pyplot as plt\n",
        "import networkx as nx\n",
        "import enumerateCircuits as ec"
      ]
    },
    {
      "cell_type": "code",
      "execution_count": null,
      "metadata": {
        "trusted": true
      },
      "outputs": [],
      "source": [
        "def defineGraph()->tuple[nx.Graph,dict[str,tuple[float,float]],dict[tuple[str,str],str]]:\n",
        "    \"\"\"\n",
        "    グラフの定義\n",
        "\n",
        "    Returns\n",
        "    ---\n",
        "    G,nodeLocations,edgeLabels\n",
        "\n",
        "    G nx.Graph グラフ\n",
        "    nodeLocations 頂点の一覧\n",
        "    edgeLabels 辺のラベル\n",
        "    \"\"\"\n",
        "    nodeList = list()\n",
        "    for i in range(5):\n",
        "        nodeList.append(f'v{i}')\n",
        "    edgeList = [\n",
        "        ('v0','v1'), ('v0','v2'), ('v1','v2'), ('v1','v3'), ('v1','v4'), \n",
        "        ('v2','v3'), ('v2','v4'), ('v3','v4')\n",
        "    ]\n",
        "    nodeLocations = {\n",
        "        'v0':(.4,.8), 'v1':(.2,.6), 'v2':(.6,.6), 'v3':(.2,.4), 'v4':(.6,.4)\n",
        "    }\n",
        "    edgeLabels = {}\n",
        "    count = 0\n",
        "    for e in edgeList:\n",
        "        edgeLabels[e] = f'e{count}'\n",
        "        count += 1\n",
        "    G = nx.Graph()\n",
        "    G.add_nodes_from(nodeList)\n",
        "    G.add_edges_from(edgeList)\n",
        "    return G, nodeLocations, edgeLabels"
      ]
    },
    {
      "cell_type": "code",
      "execution_count": null,
      "metadata": {
        "trusted": true
      },
      "outputs": [],
      "source": [
        "def drawGraph(G:nx.Graph,nodeLocations:dict[str,tuple[float,float]],edgeLabels:dict[tuple[str,str]]):\n",
        "    \"\"\"\n",
        "    作図\n",
        "    \"\"\"\n",
        "    #準備\n",
        "    font_size = 18\n",
        "    node_size = 3000\n",
        "    edge_width = 5.\n",
        "    node_color = \"c\"\n",
        "    arrowsize = 50\n",
        "    plt.figure(figsize = (10, 10))\n",
        "    \n",
        "    nx.draw_networkx_nodes(G, nodeLocations, node_size = node_size, node_color = node_color)\n",
        "    nx.draw_networkx_labels(G, nodeLocations, font_size = font_size)\n",
        "    nx.draw_networkx_edges(G, nodeLocations, width = edge_width, node_size = node_size)\n",
        "    nx.draw_networkx_edge_labels(G, nodeLocations, edge_labels = edgeLabels,font_size = font_size)\n",
        "    plt.axis('off')\n",
        "    plt.show()"
      ]
    },
    {
      "cell_type": "code",
      "execution_count": null,
      "metadata": {
        "tags": [],
        "trusted": true
      },
      "outputs": [],
      "source": [
        "G,nodeLocations,edgeLabels = defineGraph()\n",
        "#drawGraph(G,nodeLocations,edgeLabels)\n",
        "result=ec.enumerateHamilton('v0',G)\n",
        "print(len(result))\n",
        "for arcs in result:\n",
        "    print(arcs)\n"
      ]
    },
    {
      "cell_type": "code",
      "execution_count": null,
      "metadata": {
        "trusted": true
      },
      "outputs": [],
      "source": []
    }
  ],
  "metadata": {
    "kernelspec": {
      "display_name": "Python 3.7.1 64-bit",
      "language": "python",
      "name": "python_defaultSpec_1599027784318"
    },
    "language_info": {
      "codemirror_mode": {
        "name": "ipython",
        "version": 3
      },
      "file_extension": ".py",
      "mimetype": "text/x-python",
      "name": "python",
      "nbconvert_exporter": "python",
      "pygments_lexer": "ipython3",
      "version": "3.7.8-final"
    }
  },
  "nbformat": 4,
  "nbformat_minor": 2
}
