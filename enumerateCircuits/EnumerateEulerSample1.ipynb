{
  "cells": [
    {
      "metadata": {
        "trusted": true
      },
      "cell_type": "code",
      "source": [
        "import matplotlib.pyplot as plt\n",
        "import networkx as nx\n",
        "import enumerateCircuits as ec"
      ],
      "execution_count": null,
      "outputs": []
    },
    {
      "metadata": {
        "trusted": true
      },
      "cell_type": "code",
      "source": [
        "def defineGraph():\n",
        "    nodeList = list()\n",
        "    for i in range(5):\n",
        "        v = 'v'+str(i)\n",
        "        nodeList.append(v)\n",
        "    edgeList = [\n",
        "        ('v0','v1'),('v0','v2'),('v1','v2'),('v1','v3'),('v1','v4'),\n",
        "        ('v2','v3'),('v2','v4')\n",
        "    ]\n",
        "    position = {\n",
        "        'v0':(.4,.8),'v1':(.2,.6),'v2':(.6,.6),'v3':(.2,.4),'v4':(.6,.4)\n",
        "    }\n",
        "    edgeLabels = {}\n",
        "    count = 0\n",
        "    for e in edgeList:\n",
        "        s = 'a'+str(count)\n",
        "        edgeLabels[e] = s\n",
        "        count += 1\n",
        "    G = nx.Graph()\n",
        "    G.add_nodes_from(nodeList)\n",
        "    G.add_edges_from(edgeList)\n",
        "    return G, position, edgeLabels"
      ],
      "execution_count": null,
      "outputs": []
    },
    {
      "metadata": {
        "trusted": true
      },
      "cell_type": "code",
      "source": [
        "def drawGraph(G,position,edgeLabels):\n",
        "    #準備\n",
        "    font_size=18\n",
        "    node_size=3000\n",
        "    edge_width=5.\n",
        "    node_color=\"c\"\n",
        "    arrowsize=50\n",
        "    plt.figure(figsize=(10,10))\n",
        "    \n",
        "    nx.draw_networkx_nodes(G,position,node_size=node_size,node_color=node_color)\n",
        "    nx.draw_networkx_labels(G,position,font_size=font_size)\n",
        "    nx.draw_networkx_edges(G,position,width=edge_width,arrows=True,arrowsize=arrowsize ,node_size=node_size)\n",
        "    nx.draw_networkx_edge_labels(G,position,edge_labels=edgeLabels,font_size=font_size)\n",
        "    plt.axis('off')\n",
        "    plt.show()"
      ],
      "execution_count": null,
      "outputs": []
    },
    {
      "metadata": {
        "trusted": true,
        "tags": []
      },
      "cell_type": "code",
      "source": [
        "G,position,edgeLabels = defineGraph()\n",
        "#drawGraph(G,position,edgeLabels)\n",
        "result=ec.enumerateEuler('v0',G)\n",
        "print(len(result))\n",
        "for arcs in result:\n",
        "    route = list()\n",
        "    for a in arcs:\n",
        "        e = a\n",
        "        if e not in edgeLabels:\n",
        "            (f,t)=e\n",
        "            e = (t,f)\n",
        "        route.append(edgeLabels[e])\n",
        "    print(route)\n"
      ],
      "execution_count": null,
      "outputs": []
    },
    {
      "metadata": {
        "trusted": true
      },
      "cell_type": "code",
      "source": [],
      "execution_count": null,
      "outputs": []
    }
  ],
  "metadata": {
    "kernelspec": {
      "name": "python_defaultSpec_1599012256536",
      "display_name": "Python 3.7.8 64-bit",
      "language": "python"
    },
    "language_info": {
      "mimetype": "text/x-python",
      "nbconvert_exporter": "python",
      "name": "python",
      "pygments_lexer": "ipython3",
      "version": "3.7.8-final",
      "file_extension": ".py",
      "codemirror_mode": {
        "version": 3,
        "name": "ipython"
      }
    }
  },
  "nbformat": 4,
  "nbformat_minor": 2
}