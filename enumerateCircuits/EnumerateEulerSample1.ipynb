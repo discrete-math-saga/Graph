{
  "cells": [
    {
      "attachments": {},
      "cell_type": "markdown",
      "metadata": {},
      "source": [
        "# Example of enumerating Euler circuits"
      ]
    },
    {
      "attachments": {},
      "cell_type": "markdown",
      "metadata": {},
      "source": []
    },
    {
      "cell_type": "code",
      "execution_count": null,
      "metadata": {
        "trusted": true
      },
      "outputs": [],
      "source": [
        "import matplotlib.pyplot as plt\n",
        "import networkx as nx\n",
        "from enumerateCircuits import enumerateEuler, drawGraph"
      ]
    },
    {
      "cell_type": "code",
      "execution_count": null,
      "metadata": {
        "trusted": true
      },
      "outputs": [],
      "source": [
        "def defineGraph()->tuple[nx.Graph,dict[str,tuple[float,float]],dict[tuple[str,str],str]]:\n",
        "    \"\"\"\n",
        "    Defining the target graph\n",
        "\n",
        "    Returns\n",
        "    ---\n",
        "    G,nodeLocations,edgeLabels\n",
        "\n",
        "    G: the graph\n",
        "    nodeLocations: the list of nodes\n",
        "    edgeLabels: the list of edge labels\n",
        "    \"\"\"\n",
        "    nodeList = list()\n",
        "    for i in range(5):\n",
        "        nodeList.append(f'v{i}')\n",
        "    edgeList = [\n",
        "        ('v0','v1'), ('v0','v2'), \n",
        "        ('v1','v2'), ('v1','v3'), ('v1','v4'), \n",
        "        ('v2','v3'), ('v2','v4')\n",
        "    ]\n",
        "    nodeLocations = {\n",
        "        'v0':(.4,.8), 'v1':(.2,.6), 'v2':(.6,.6), 'v3':(.2,.4), 'v4':(.6,.4)\n",
        "    }\n",
        "    edgeLabels = {}\n",
        "    c = 0\n",
        "    for e in edgeList:\n",
        "        edgeLabels[e] = f'e{c}'\n",
        "        c += 1\n",
        "    G = nx.Graph()\n",
        "    G.add_nodes_from(nodeList)\n",
        "    G.add_edges_from(edgeList)\n",
        "    return G, nodeLocations, edgeLabels"
      ]
    },
    {
      "cell_type": "code",
      "execution_count": null,
      "metadata": {
        "tags": [],
        "trusted": true
      },
      "outputs": [],
      "source": [
        "G, nodeLocations, edgeLabels = defineGraph()\n",
        "drawGraph(G,nodeLocations,edgeLabels)\n",
        "result = enumerateEuler('v0', G)\n",
        "print(len(result))\n",
        "for arcs in result:\n",
        "    route = list()\n",
        "    for a in arcs:\n",
        "        e = a\n",
        "        if e not in edgeLabels:\n",
        "            (f, t) = e\n",
        "            e = (t, f)\n",
        "        route.append(edgeLabels[e])\n",
        "    print(route)\n"
      ]
    }
  ],
  "metadata": {
    "kernelspec": {
      "display_name": "Python 3.9.7 ('myenv')",
      "language": "python",
      "name": "python3"
    },
    "language_info": {
      "codemirror_mode": {
        "name": "ipython",
        "version": 3
      },
      "file_extension": ".py",
      "mimetype": "text/x-python",
      "name": "python",
      "nbconvert_exporter": "python",
      "pygments_lexer": "ipython3",
      "version": "3.11.6"
    },
    "vscode": {
      "interpreter": {
        "hash": "5b50574aca822a4663eeb358827631e5cbe081f130521b0066dec6b864ef6f2f"
      }
    }
  },
  "nbformat": 4,
  "nbformat_minor": 2
}
