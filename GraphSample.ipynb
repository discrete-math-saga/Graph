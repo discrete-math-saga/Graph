{
  "cells": [
    {
      "metadata": {
        "trusted": true
      },
      "cell_type": "code",
      "source": [
        "import matplotlib.pyplot as plt\n",
        "import networkx as nx"
      ],
      "execution_count": null,
      "outputs": []
    },
    {
      "metadata": {},
      "cell_type": "markdown",
      "source": [
        "# グラフの定義"
      ]
    },
    {
      "metadata": {
        "trusted": true
      },
      "cell_type": "code",
      "source": [
        "def defineGraph():\n",
        "    #頂点の定義\n",
        "    nodeList=[\"v0\",\"v1\",\"v2\",\"v3\"]\n",
        "    #頂点の位置座標\n",
        "    position={\"v0\":(0.2,0.2),\"v1\":(0.8,0.2),\"v2\":(.8,.8),\"v3\":(.2,.8)}\n",
        "    #弧の定義\n",
        "    edgeList = [(\"v0\",\"v1\"),(\"v0\",\"v3\"),(\"v1\",\"v2\"),(\"v2\",\"v3\"),(\"v3\",\"v1\")]\n",
        "    #弧のラベル\n",
        "    edgeLabels ={(\"v0\",\"v1\"):\"a0\",(\"v0\",\"v3\"):\"a1\",\n",
        "                 (\"v1\",\"v2\"):\"a2\",(\"v2\",\"v3\"):\"a3\",(\"v3\",\"v1\"):\"a4\"}\n",
        "    \n",
        "    G = nx.DiGraph()#有向グラフ\n",
        "    G.add_nodes_from(nodeList)\n",
        "    G.add_edges_from(edgeList)\n",
        "    return G,position,edgeLabels"
      ],
      "execution_count": null,
      "outputs": []
    },
    {
      "metadata": {},
      "cell_type": "markdown",
      "source": [
        "# 作図"
      ]
    },
    {
      "metadata": {
        "trusted": true
      },
      "cell_type": "code",
      "source": [
        "def drawGraph(G,position,edgeLabels):\n",
        "    #準備\n",
        "    font_size=24\n",
        "    node_size=5000\n",
        "    edge_width=5.\n",
        "    node_color=\"c\"\n",
        "    arrowsize=50\n",
        "    plt.figure(figsize=(10,10))\n",
        "    \n",
        "    nx.draw_networkx_nodes(G,position,node_size=node_size,node_color=node_color)\n",
        "    nx.draw_networkx_labels(G,position,font_size=font_size)\n",
        "    nx.draw_networkx_edges(G,position,width=edge_width,arrows=True,arrowsize=arrowsize ,node_size=node_size)\n",
        "    nx.draw_networkx_edge_labels(G,position,edge_labels=edgeLabels,font_size=font_size)\n",
        "    plt.axis('off')\n",
        "    plt.show()"
      ],
      "execution_count": null,
      "outputs": []
    },
    {
      "metadata": {
        "trusted": true
      },
      "cell_type": "code",
      "source": [
        "G,position,edgeLabels = defineGraph()\n",
        "drawGraph(G,position,edgeLabels)"
      ],
      "execution_count": null,
      "outputs": []
    },
    {
      "metadata": {
        "trusted": true
      },
      "cell_type": "code",
      "source": [],
      "execution_count": null,
      "outputs": []
    }
  ],
  "metadata": {
    "kernelspec": {
      "name": "python36",
      "display_name": "Python 3.6",
      "language": "python"
    },
    "language_info": {
      "mimetype": "text/x-python",
      "nbconvert_exporter": "python",
      "name": "python",
      "pygments_lexer": "ipython3",
      "version": "3.6.6",
      "file_extension": ".py",
      "codemirror_mode": {
        "version": 3,
        "name": "ipython"
      }
    }
  },
  "nbformat": 4,
  "nbformat_minor": 2
}