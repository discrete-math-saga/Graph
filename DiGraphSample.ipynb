{
  "cells": [
    {
      "cell_type": "code",
      "execution_count": null,
      "metadata": {
        "trusted": true
      },
      "outputs": [],
      "source": [
        "import matplotlib.pyplot as plt\n",
        "import networkx as nx"
      ]
    },
    {
      "cell_type": "markdown",
      "metadata": {},
      "source": [
        "# グラフの定義\n",
        "有向グラフ"
      ]
    },
    {
      "cell_type": "code",
      "execution_count": null,
      "metadata": {},
      "outputs": [],
      "source": [
        "def position2xy(verteses:dict[str,tuple[float,float]])->tuple[dict[str,float],dict[str,float]]:\n",
        "    \"\"\"\n",
        "    位置の一覧から、X座標とY座標の一覧を生成\n",
        "\n",
        "    Parameters\n",
        "    ---\n",
        "    verteses 頂点名->座標の一覧\n",
        "\n",
        "    Returns\n",
        "    ---\n",
        "    (xp,yp) 頂点名->X座標の一覧、頂点名->Y座標の一覧\n",
        "    \"\"\"\n",
        "    xp = dict()\n",
        "    yp = dict()\n",
        "    for v in verteses.keys():\n",
        "        (x,y) = verteses[v]\n",
        "        xp[v] = x\n",
        "        yp[v] = y\n",
        "    return xp,yp"
      ]
    },
    {
      "cell_type": "code",
      "execution_count": null,
      "metadata": {
        "trusted": true
      },
      "outputs": [],
      "source": [
        "def defineGraph()->tuple[nx.DiGraph,dict[str,tuple[float,float]],dict[tuple[str,str],str]]:\n",
        "    \"\"\"\n",
        "    グラフの定義\n",
        "\n",
        "    Returns\n",
        "    ---\n",
        "    G,verteses,edgeLabels\n",
        "\n",
        "    G nx.DiGraph グラフ\n",
        "    verteses 頂点の一覧\n",
        "    edgeLabels 辺のラベル\n",
        "    \"\"\"\n",
        "    #頂点の定義\n",
        "    nodeList=[\"v0\", \"v1\", \"v2\", \"v3\"]\n",
        "    #頂点の位置座標\n",
        "    verteses={\"v0\":(0.2,0.2), \"v1\":(0.8,0.2), \"v2\":(.8,.8), \"v3\":(.2,.8)}\n",
        "    #弧の定義\n",
        "    edgeList = [(\"v0\",\"v1\"), (\"v0\",\"v3\"), (\"v1\",\"v2\"), (\"v2\",\"v3\"), (\"v3\",\"v1\")]\n",
        "    #弧のラベル\n",
        "    edgeLabels=dict()\n",
        "    c = 0\n",
        "    for e in edgeList:\n",
        "        edgeLabels[e]=f'e{c}'\n",
        "        c += 1\n",
        "\n",
        "    G = nx.DiGraph()#有向グラフを定義\n",
        "    G.add_nodes_from(nodeList)#頂点を定義\n",
        "    G.add_edges_from(edgeList)#辺を定義\n",
        "    xp,yp = position2xy(verteses)\n",
        "    nx.set_node_attributes(G, xp, 'x')#頂点のX座標\n",
        "    nx.set_node_attributes(G, yp, 'y')#頂点のY座標\n",
        "    nx.set_edge_attributes(G, edgeLabels, 'edge')#辺の定義\n",
        "    return G, verteses, edgeLabels"
      ]
    },
    {
      "cell_type": "markdown",
      "metadata": {},
      "source": [
        "# 作図"
      ]
    },
    {
      "cell_type": "code",
      "execution_count": null,
      "metadata": {
        "trusted": true
      },
      "outputs": [],
      "source": [
        "def drawGraph(G:nx.DiGraph,verteses:dict[str,tuple[float,float]],edgeLabels:dict[tuple[str,str]]):\n",
        "    \"\"\"\n",
        "    作図\n",
        "    \"\"\"\n",
        "    #準備\n",
        "    font_size = 24\n",
        "    node_size = 5000\n",
        "    edge_width = 5.\n",
        "    node_color = \"c\"\n",
        "    arrowsize = 50\n",
        "    plt.figure(figsize = (10, 10), facecolor = 'white')\n",
        "    \n",
        "    #頂点を描く\n",
        "    nx.draw_networkx_nodes(G, verteses, node_size = node_size, node_color = node_color)\n",
        "    nx.draw_networkx_labels(G, verteses, font_size = font_size)\n",
        "    nx.draw_networkx_edges(G, verteses, width = edge_width, \n",
        "        arrows = True, arrowsize = arrowsize, node_size = node_size)\n",
        "    #辺を描く\n",
        "    nx.draw_networkx_edge_labels(G, verteses, edge_labels = edgeLabels,\n",
        "        font_size = font_size)\n",
        "    plt.axis('off')\n",
        "    plt.show()"
      ]
    },
    {
      "cell_type": "code",
      "execution_count": null,
      "metadata": {
        "trusted": true
      },
      "outputs": [],
      "source": [
        "G, verteses, edgeLabels = defineGraph()\n",
        "drawGraph(G, verteses, edgeLabels)\n",
        "nx.write_pajek(G, 'sample.net')\n",
        "G.edges(data = True)"
      ]
    },
    {
      "cell_type": "code",
      "execution_count": null,
      "metadata": {
        "trusted": true
      },
      "outputs": [],
      "source": [
        "G2 = nx.read_pajek('sample.net')\n",
        "G2.nodes(data=True)"
      ]
    },
    {
      "cell_type": "code",
      "execution_count": null,
      "metadata": {},
      "outputs": [],
      "source": []
    }
  ],
  "metadata": {
    "interpreter": {
      "hash": "5b50574aca822a4663eeb358827631e5cbe081f130521b0066dec6b864ef6f2f"
    },
    "kernelspec": {
      "display_name": "Python 3.9.7 64-bit ('myenv': conda)",
      "name": "python3"
    },
    "language_info": {
      "codemirror_mode": {
        "name": "ipython",
        "version": 3
      },
      "file_extension": ".py",
      "mimetype": "text/x-python",
      "name": "python",
      "nbconvert_exporter": "python",
      "pygments_lexer": "ipython3",
      "version": "3.9.7"
    }
  },
  "nbformat": 4,
  "nbformat_minor": 2
}
